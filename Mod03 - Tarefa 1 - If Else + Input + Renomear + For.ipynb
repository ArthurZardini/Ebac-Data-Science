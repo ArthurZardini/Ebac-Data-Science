{
 "cells": [
  {
   "cell_type": "markdown",
   "metadata": {
    "id": "QQt4cCrOUPMI"
   },
   "source": [
    "### 01 - Teste de gravidez\n",
    "Escreva uma célula com controle de fluxos que tem como premissa a existência das seguintes variáveis:\n",
    "\n",
    "- ```sexo``` como ```str``` indicando os valores '**M**' para masculino e '**F**' para feminino  \n",
    "- ```beta_hcg``` que indica a quantidade do beta-HCG no sangue em mUI/mL.\n",
    "\n",
    "A sua tarefa é escrever um código que imprima como resultado \"indivíduo do sexo masculino\" quando sexo = 'M', caso sexo = 'F', se o valor de beta-HCG for maior que 5, retorne \"Positivo\" indicando que a paciente está grávida, e retorne \"Negativo\" caso contrário.\n",
    "\n",
    "Não mexa nos valores da variável ```sexo``` nem em ```beta_hcg```, e escreva um código que funcione para quaisquer valores possíveis de ambos: ```sexo``` = '**M**' ou '**F**' e ```beta_hcg``` assumindo valores inteiros positivos."
   ]
  },
  {
   "cell_type": "code",
   "execution_count": 1,
   "metadata": {
    "colab": {
     "base_uri": "https://localhost:8080/"
    },
    "id": "QPDUdQRIUPMU",
    "outputId": "05042ab8-9ba5-4f0d-befd-cfec1ca68579"
   },
   "outputs": [
    {
     "name": "stdout",
     "output_type": "stream",
     "text": [
      "Insira o sexo \"M ou F\": m\n",
      "Parabéns, gostando ou não, você é do sexo masculino.\n"
     ]
    }
   ],
   "source": [
    "sexo = 'M'\n",
    "beta_hcg = 0\n",
    "\n",
    "# seu código vem abaixo desta linha\n",
    "\n",
    "sexo = input('Insira o sexo \"M ou F\": ')\n",
    "\n",
    "if sexo == 'M':\n",
    "    print('Parabéns, gostando ou não, você é do sexo masculino.')\n",
    "elif sexo == 'm':\n",
    "    print('Parabéns, gostando ou não, você é do sexo masculino.')\n",
    "    \n",
    "elif sexo == 'f':\n",
    "    beta_hcg = int(input('Qual a quantidade de beta-HCG no seu sangue?: '))\n",
    "    if beta_hcg > 5:\n",
    "        print('POSITIVO! Parabéns futura mamãe, você vai ter que parar de beber whiskey por um tempo.')\n",
    "\n",
    "    elif beta_hcg <= 5:\n",
    "        print('NEGATIVO! Não foi dessa vez, pode voltar para festa.')\n",
    "    \n",
    "elif sexo == 'F':\n",
    "    beta_hcg = int(input('Qual a quantidade de beta-HCG no seu sangue?: '))\n",
    "    if beta_hcg > 5:\n",
    "        print('POSITIVO! Parabéns futura mamãe, você vai ter que parar de beber whiskey por um tempo.')\n",
    "\n",
    "    else:\n",
    "        print('NEGATIVO! Não foi dessa vez, pode voltar para festa.')\n"
   ]
  },
  {
   "cell_type": "markdown",
   "metadata": {
    "id": "46F8JtamUPMc"
   },
   "source": [
    "### 02 - Renomeando variáveis\n",
    "\n",
    "Vamos ver adiante que uma forma de renomear variáveis de um conjunto de dados é através de dicionários - o dicionário deve conter como chave o nome original, associando a cada chave um único valor (tipo *str*) que contenha o nome novo.\n",
    "\n",
    "A sua tarefa é escrever um dicionário que possa ser utilizado para traduzir as variáveis ```name``` (nome), ```age``` (idade) e ```income``` (renda). Ou seja, esse dicionário deve relacionar as chaves *name, age* e *income* às suas respectivas traduções."
   ]
  },
  {
   "cell_type": "code",
   "execution_count": 2,
   "metadata": {
    "colab": {
     "base_uri": "https://localhost:8080/"
    },
    "id": "1TkzMypuUPMg",
    "outputId": "9524e41d-72de-4513-8c66-5ecbf82d2201"
   },
   "outputs": [
    {
     "data": {
      "text/plain": [
       "{'name': 'nome', 'age': 'idade', 'income': 'renda'}"
      ]
     },
     "execution_count": 2,
     "metadata": {},
     "output_type": "execute_result"
    }
   ],
   "source": [
    "dic_renomeacao = {'name': 'nome', 'age': 'idade', 'income': 'renda'}\n",
    "dic_renomeacao"
   ]
  },
  {
   "cell_type": "markdown",
   "metadata": {
    "id": "QI-rXw07UPMi"
   },
   "source": [
    "### 03 - É divisível?\n",
    "A sua tarefa é escrever um código que indique se um número ```N``` é divisível por um número P. Escreva um programa que faça essa verificação para quaisquer combinações de ```N``` e ```M``` e devolva uma mensagem indicativa no output."
   ]
  },
  {
   "cell_type": "code",
   "execution_count": 110,
   "metadata": {
    "id": "wwDbCj4pUPMk"
   },
   "outputs": [
    {
     "name": "stdout",
     "output_type": "stream",
     "text": [
      "7 É divisível\n",
      "14 É divisível\n",
      "21 É divisível\n"
     ]
    }
   ],
   "source": [
    "N = 42\n",
    "M = 7\n",
    "\n",
    "#Seu código\n",
    "\n",
    "for M in range(7,N):\n",
    "    if( N % M == 0 or M % N == 0):\n",
    "        print(M, \"É divisível\")\n",
    " \n",
    "\n",
    "\n",
    "    \n",
    "\n",
    "\n",
    "\n"
   ]
  },
  {
   "cell_type": "markdown",
   "metadata": {
    "id": "-Yyzg1H0UPMm"
   },
   "source": [
    "### 04 - Números primos\n",
    "> Um número **N** é primo se e somente se é divisível por 1, -1, por **N** e por -**N**.  \n",
    "\n",
    "Escreva um script que verifica se ```N``` é um número primo, verificando se ```N``` é divisível por todos os números de ```1``` a ```N-1```. Você vai precisar usar alguma ferramenta de *loop* que você aprendeu para isto. No final, devolva uma mensagem no output indicando se o número é primo ou não."
   ]
  },
  {
   "cell_type": "code",
   "execution_count": 109,
   "metadata": {
    "colab": {
     "base_uri": "https://localhost:8080/",
     "height": 235
    },
    "id": "uocXXDzEUPMp",
    "outputId": "763a6634-50ca-425e-81ad-d3410ca48c11"
   },
   "outputs": [
    {
     "name": "stdout",
     "output_type": "stream",
     "text": [
      "47 É um número primo\n"
     ]
    }
   ],
   "source": [
    "N = 47\n",
    "\n",
    "\n",
    "# seu código abaixo\n",
    "\n",
    "for i in range(1,N-1):\n",
    "    if (N % i) == 0:\n",
    "        print(N, \"É um número primo\")\n"
   ]
  },
  {
   "cell_type": "markdown",
   "metadata": {
    "id": "DtQ5xa9rUPMr"
   },
   "source": [
    "### 05 - Desafio\n",
    "O algorítmo do exercício anterior não é o mais eficiente. O que você pode fazer para deixá-lo mais eficiente? Ou seja, executar menos comparações, portanto consumir menos tempo.\n",
    "1. Será que precisamos correr o loop até o final sempre?\n",
    "2. Será que precisamos mesmo verificar **todos** os números?\n",
    "3. Será que precisamos ir até N-1?\n",
    "\n",
    "Essas perguntas levam ao tipo de pensamento voltado a deixar um algoritmo mais eficiente. Veja se você consegue melhorar o seu."
   ]
  },
  {
   "cell_type": "code",
   "execution_count": null,
   "metadata": {
    "id": "JO2Q1xBgUPMu"
   },
   "outputs": [],
   "source": [
    "N = 98\n",
    "\n",
    "# seu código aqui\n",
    "\n"
   ]
  },
  {
   "cell_type": "markdown",
   "metadata": {
    "id": "D4IJ9bOpUPMv"
   },
   "source": [
    "### 06 - Peso ideal 1\n",
    "O IMC (índice de massa corpórea) é um indicador de saúde mais bem aceito que o peso. Ele é calculado como:\n",
    "\n",
    "$$ IMC = \\dfrac{peso}{altura^2}$$\n",
    "\n",
    "Segundo a OMS, valores *normais* são entre 18.5 e 24.9.\n",
    "\n",
    "Sua tarefa é encontrar o ponto médio dessa faixa."
   ]
  },
  {
   "cell_type": "code",
   "execution_count": 43,
   "metadata": {
    "colab": {
     "base_uri": "https://localhost:8080/"
    },
    "id": "UG7scVrWUPMx",
    "outputId": "fbd19158-87d0-4cba-db0a-f6e1f2506b44"
   },
   "outputs": [
    {
     "data": {
      "text/plain": [
       "21.7"
      ]
     },
     "execution_count": 43,
     "metadata": {},
     "output_type": "execute_result"
    }
   ],
   "source": [
    "imc_ideal = (18.5 + 24.9) / 2\n",
    "imc_ideal"
   ]
  },
  {
   "cell_type": "markdown",
   "metadata": {
    "id": "B9jIqlSKUPM0"
   },
   "source": [
    "### 07 - Peso ideal 2\n",
    "Recebendo um valor de altura, encontre o peso '*ideal*' dessa pessoa, que fornece o IMC encontrado acima"
   ]
  },
  {
   "cell_type": "code",
   "execution_count": 44,
   "metadata": {
    "colab": {
     "base_uri": "https://localhost:8080/"
    },
    "id": "mdvFJMrcUPM1",
    "outputId": "d0907b8f-1687-4a7f-de9b-1f5e7dfd836a"
   },
   "outputs": [
    {
     "data": {
      "text/plain": [
       "62.712999999999994"
      ]
     },
     "execution_count": 44,
     "metadata": {},
     "output_type": "execute_result"
    }
   ],
   "source": [
    "altura = 1.70\n",
    "\n",
    "# Seu código\n",
    "peso_ideal = 21.7 * (altura ** 2)\n",
    "peso_ideal"
   ]
  },
  {
   "cell_type": "markdown",
   "metadata": {
    "id": "PiiHW_NzUPM7"
   },
   "source": [
    "### 08 - Peso ideal 3\n",
    "Dada uma lista contendo as alturas de pacientes, crie uma nova lista que contenha o peso '*ideal*' (que fornece o IMC calculado em **Peso ideal 1**) desses pacientes."
   ]
  },
  {
   "cell_type": "code",
   "execution_count": 48,
   "metadata": {
    "colab": {
     "base_uri": "https://localhost:8080/"
    },
    "id": "YKal01Q4UPM8",
    "outputId": "3cb83b68-4268-4fa2-b0e0-7e04648464a4"
   },
   "outputs": [
    {
     "data": {
      "text/plain": [
       "array([82.51425, 91.19425, 62.713  , 59.07825])"
      ]
     },
     "execution_count": 48,
     "metadata": {},
     "output_type": "execute_result"
    }
   ],
   "source": [
    "lista_alturas = [1.95, 2.05, 1.70, 1.65]\n",
    "\n",
    "lista_peso_ideal = []\n",
    "\n",
    "# seu código\n",
    "\n",
    "import numpy as np\n",
    "\n",
    "lista_alturas = np.array([1.95, 2.05, 1.70, 1.65])\n",
    "lista_alturas * lista_alturas * 21.7\n",
    "\n",
    "\n",
    "\n"
   ]
  },
  {
   "cell_type": "markdown",
   "metadata": {
    "id": "GCyjO9vKUPM-"
   },
   "source": [
    "### 09 - Peso ideal 4\n",
    "Dada uma lista de tuplas - cada elemento da lista é uma tupla contendo altura e peso de um paciente - crie uma nova lista com o IMC desses pacientes."
   ]
  },
  {
   "cell_type": "code",
   "execution_count": 11,
   "metadata": {
    "colab": {
     "base_uri": "https://localhost:8080/"
    },
    "id": "am1QZT0wUPM_",
    "outputId": "6da6a2d3-5b21-4194-d663-b6c22a8c6d56",
    "scrolled": true
   },
   "outputs": [
    {
     "data": {
      "text/plain": [
       "array([[ 1.8 , 90.  ],\n",
       "       [ 1.65, 75.  ],\n",
       "       [ 1.91, 70.  ]])"
      ]
     },
     "execution_count": 11,
     "metadata": {},
     "output_type": "execute_result"
    }
   ],
   "source": [
    "altura_peso = [(1.80, 90), (1.65, 75), (1.91, 70)]\n",
    "\n",
    "imc = []\n",
    "\n",
    "# seu código\n",
    "\n",
    "altura_peso = np.array([(1.80, 90), (1.65, 75), (1.91, 70)])\n",
    "altura_peso\n",
    "\n",
    "\n"
   ]
  },
  {
   "cell_type": "code",
   "execution_count": 12,
   "metadata": {
    "colab": {
     "base_uri": "https://localhost:8080/"
    },
    "id": "Xif4NQTrUPNB",
    "outputId": "95a65af5-680a-4e3a-ac60-955f5865f904"
   },
   "outputs": [
    {
     "data": {
      "text/plain": [
       "array([27.77777778, 27.54820937, 19.1880705 ])"
      ]
     },
     "execution_count": 12,
     "metadata": {},
     "output_type": "execute_result"
    }
   ],
   "source": [
    "altura_peso[:,1]/(altura_peso[:,0]**2)"
   ]
  },
  {
   "cell_type": "markdown",
   "metadata": {
    "id": "NdeguMnlUPND"
   },
   "source": [
    "### 10 - Peso ideal 5\n",
    "Dada uma lista de **listas** - cada elemento da lista é uma **lista** contendo altura e peso de um paciente, adicione mais um elemento à lista de cada paciente contendo o IMC do paciente. Verifique também se é 'baixo', 'normal' ou 'alto' segundo os padrões da OMS em que normal é entre 18.5 e 24.9.\n",
    "\n",
    "Reflexão: por que no problema anterior temos que criar uma nova lista, e não podemos adicionar os dados de cada indivíduo à tupla?"
   ]
  },
  {
   "cell_type": "code",
   "execution_count": 14,
   "metadata": {
    "colab": {
     "base_uri": "https://localhost:8080/"
    },
    "id": "ChJGa8blUPNG",
    "outputId": "d7ca42d2-e0d4-4a96-cb96-0fc39df4c4b3"
   },
   "outputs": [
    {
     "data": {
      "text/plain": [
       "[[1.8,\n",
       "  90,\n",
       "  27.78,\n",
       "  'Por favor, coma menos, faça exercícios, você está acima do peso.'],\n",
       " [1.65,\n",
       "  75,\n",
       "  27.55,\n",
       "  'Por favor, coma menos, faça exercícios, você está acima do peso.'],\n",
       " [1.91,\n",
       "  70,\n",
       "  19.19,\n",
       "  'Parabéns, você está dentro da média que a OMS estipulou. Reze para ela ter razão :)']]"
      ]
     },
     "execution_count": 14,
     "metadata": {},
     "output_type": "execute_result"
    }
   ],
   "source": [
    "altura_peso = [[1.80, 90], [1.65, 75], [1.91, 70]]\n",
    "\n",
    "# seu código\n",
    "\n",
    "for num in altura_peso:\n",
    "    valor = round((num[1] / num[0]**2), 2)\n",
    "    \n",
    "    if valor < 18.5:\n",
    "        imc = 'Você está magro. Coma mais, por favor.'\n",
    "    elif valor > 24.9:\n",
    "        imc = 'Por favor, coma menos, faça exercícios, você está acima do peso.'\n",
    "    else:\n",
    "        imc = 'Parabéns, você está dentro da média que a OMS estipulou. Reze para ela ter razão :)'\n",
    "\n",
    "    num.append(valor)\n",
    "    num.append(imc)\n",
    "\n",
    "altura_peso"
   ]
  },
  {
   "cell_type": "code",
   "execution_count": null,
   "metadata": {
    "id": "mEWroyn-UPNI"
   },
   "outputs": [],
   "source": []
  }
 ],
 "metadata": {
  "colab": {
   "provenance": []
  },
  "kernelspec": {
   "display_name": "Python 3 (ipykernel)",
   "language": "python",
   "name": "python3"
  },
  "language_info": {
   "codemirror_mode": {
    "name": "ipython",
    "version": 3
   },
   "file_extension": ".py",
   "mimetype": "text/x-python",
   "name": "python",
   "nbconvert_exporter": "python",
   "pygments_lexer": "ipython3",
   "version": "3.9.13"
  }
 },
 "nbformat": 4,
 "nbformat_minor": 1
}
