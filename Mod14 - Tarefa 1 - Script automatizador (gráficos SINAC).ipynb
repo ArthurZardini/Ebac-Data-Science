{
 "cells": [
  {
   "cell_type": "markdown",
   "id": "e2dd3b2c",
   "metadata": {},
   "source": [
    "- Crie um jupyter notebook com os imports necessários e um código para gerar os gráficos referentes a base de dados de março, abril, maio, junho e dezembro (numa célula só ou em várias).\n"
   ]
  },
  {
   "cell_type": "code",
   "execution_count": null,
   "id": "5f758748",
   "metadata": {},
   "outputs": [],
   "source": [
    "import pandas as pd\n",
    "import seaborn as sns\n",
    "import matplotlib.pyplot as plt\n",
    "import os\n",
    "import sys\n",
    "\n",
    "sns.set()\n",
    "\n",
    "def plota_pivot_table(df, value, index, func, ylabel, xlabel, opcao='nada'):\n",
    "    if opcao == 'nada':\n",
    "        pd.pivot_table(df, values=value, index=index,\n",
    "                       aggfunc=func).plot(figsize=[15, 5])\n",
    "    elif opcao == 'sort':\n",
    "        pd.pivot_table(df, values=value, index=index,\n",
    "                       aggfunc=func).sort_values(value).plot(figsize=[15, 5])\n",
    "    elif opcao == 'unstack':\n",
    "        pd.pivot_table(df, values=value, index=index,\n",
    "                       aggfunc=func).unstack().plot(figsize=[15, 5])\n",
    "    plt.ylabel(ylabel)\n",
    "    plt.xlabel(xlabel)\n",
    "    return None\n",
    "\n",
    "print('O nome do nosso script é: ', sys.argv[0])\n",
    "mes = sys.argv[1]\n",
    "\n",
    "print('O mês de referência é: ', mes)\n",
    "\n",
    "sinasc = pd.read_csv('./Arquivos Excel/SINASC_RO_2019_'+mes+'.csv')\n",
    "\n",
    "\n",
    "max_data = sinasc.DTNASC.max()[:7]\n",
    "print(max_data)\n",
    "os.makedirs('./output/figs/'+max_data, exist_ok=True)\n",
    "\n",
    "\n",
    "plota_pivot_table(sinasc, 'IDADEMAE', 'DTNASC', 'count', 'quantidade de nascimento','data de nascimento')\n",
    "plt.savefig('./output/figs/'+max_data+'/quantidade de nascimento.png')\n",
    "\n",
    "plota_pivot_table(sinasc, 'IDADEMAE', ['DTNASC', 'SEXO'], 'mean', 'media idade mae','data de nascimento','unstack')\n",
    "plt.savefig('./output/figs/'+max_data+'/media idade mae por sexo.png')\n",
    "\n",
    "plota_pivot_table(sinasc, 'PESO', ['DTNASC', 'SEXO'], 'mean', 'media peso bebe','data de nascimento','unstack')\n",
    "plt.savefig('./output/figs/'+max_data+'/media peso bebe por sexo.png')\n",
    "\n",
    "plota_pivot_table(sinasc, 'PESO', 'ESCMAE', 'median', 'apgar1 medio','gestacao','sort')\n",
    "plt.savefig('./output/figs/'+max_data+'/media apgar1 por escolaridade mae.png')\n",
    "\n",
    "plota_pivot_table(sinasc, 'APGAR1', 'GESTACAO', 'mean', 'apgar1 medio','gestacao','sort')\n",
    "plt.savefig('./output/figs/'+max_data+'/media apgar1 por gestacao.png')\n",
    "\n",
    "plota_pivot_table(sinasc, 'APGAR5', 'GESTACAO', 'mean', 'apgar5 medio','gestacao','sort')\n",
    "plt.savefig('./output/figs/'+max_data+'/media apgar5 por gestacao.png')"
   ]
  },
  {
   "cell_type": "markdown",
   "id": "bb6a77e6",
   "metadata": {},
   "source": [
    "RESPOSTA: Você pega o código acima, copia e cola em um notepad.\n",
    "Clique em salvar como, e escolha um nome com .py no final. Assim, você irá criar um arquivo .py com o código acima.\n",
    "Para exemplificar, irei fingir que salvei um arquivo com nome de codigotarefa1.py\n",
    "\n",
    "Depois você abre o prompt de comando, vai até o local dos arquivos que quer trabalhar.\n",
    "\n",
    "Por isso eu coloquei: './Arquivos Excel/SINASC_RO_2019_'+mes+'.csv', porque esse é o caminho que faz sentido para mim.\n",
    "\n",
    "Dentro do local certo no prompt de comando, você vai digitar python \"codigotarefa1.py\" MAR, assim, o código irá criar os gráficos do mês de março. Depois, basta fazer a mesma coisa, apenas alterando o mês, faça para ABR, MAI, JUN e DEZ.\n"
   ]
  },
  {
   "cell_type": "markdown",
   "id": "8b3b4082",
   "metadata": {},
   "source": [
    "- Como que você poderia fazer para deixar isso mais automatizado? Descreva na última célula do jupyter notebook o que ajudaria na hora de gerar novos gráficos para os meses / anos seguintes."
   ]
  },
  {
   "cell_type": "markdown",
   "id": "14486f2f",
   "metadata": {},
   "source": [
    "RESPOSTA: Eu acho que acabei estragando essa pergunta, pois, ela foi feita agora na TAREFA 1. Mas, eu vi o módulo INTEIRO antes de começar os exercícios. Ou seja, ao invés de pensar em uma solução para essa pergunta 2, eu APRENDI ela nas aulas seguintes do módulo 14.\n",
    "\n",
    "OBRIGADO :)"
   ]
  },
  {
   "cell_type": "code",
   "execution_count": null,
   "id": "6e21900f",
   "metadata": {},
   "outputs": [],
   "source": []
  }
 ],
 "metadata": {
  "kernelspec": {
   "display_name": "Python 3 (ipykernel)",
   "language": "python",
   "name": "python3"
  },
  "language_info": {
   "codemirror_mode": {
    "name": "ipython",
    "version": 3
   },
   "file_extension": ".py",
   "mimetype": "text/x-python",
   "name": "python",
   "nbconvert_exporter": "python",
   "pygments_lexer": "ipython3",
   "version": "3.9.13"
  }
 },
 "nbformat": 4,
 "nbformat_minor": 5
}
