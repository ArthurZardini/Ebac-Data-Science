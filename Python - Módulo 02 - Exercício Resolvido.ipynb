{
  "nbformat": 4,
  "nbformat_minor": 0,
  "metadata": {
    "colab": {
      "provenance": [],
      "toc_visible": true
    },
    "kernelspec": {
      "name": "python3",
      "display_name": "Python 3"
    }
  },
  "cells": [
    {
      "cell_type": "markdown",
      "metadata": {
        "id": "KJqp9AANOCtf"
      },
      "source": [
        "<img src=\"https://raw.githubusercontent.com/andre-marcos-perez/ebac-course-utils/main/media/logo/newebac_logo_black_half.png\" alt=\"ebac-logo\">\n",
        "\n",
        "---\n",
        "\n",
        "# **Módulo 02** | Python: Estruturas de Dados\n",
        "Caderno de **Exercícios**<br> \n",
        "Professor [André Perez](https://www.linkedin.com/in/andremarcosperez/)\n",
        "\n",
        "---"
      ]
    },
    {
      "cell_type": "markdown",
      "metadata": {
        "id": "d9jDtUbDOE1-"
      },
      "source": [
        "# **Tópicos**\n",
        "\n",
        "<ol type=\"1\">\n",
        "  <li>Listas;</li>\n",
        "  <li>Conjuntos;</li>\n",
        "  <li>Dicionários.</li>\n",
        "</ol>"
      ]
    },
    {
      "cell_type": "markdown",
      "metadata": {
        "id": "SmoHgt-lwkpD"
      },
      "source": [
        "---"
      ]
    },
    {
      "cell_type": "markdown",
      "metadata": {
        "id": "GABI6OW8OfQ2"
      },
      "source": [
        "# **Exercícios**"
      ]
    },
    {
      "cell_type": "markdown",
      "metadata": {
        "id": "muD1vxozykSC"
      },
      "source": [
        "## 1\\. Listas"
      ]
    },
    {
      "cell_type": "markdown",
      "metadata": {
        "id": "ahrFfCuBxJKs"
      },
      "source": [
        "Criei uma lista chamada `filmes` com o nome dos 10 primeiros filmes mais bem avaliados no site no [IMDB](https://www.imdb.com/chart/top/). Imprima o resultado."
      ]
    },
    {
      "cell_type": "code",
      "metadata": {
        "id": "OgL6Hv3bzOHI",
        "colab": {
          "base_uri": "https://localhost:8080/"
        },
        "outputId": "f1d12d77-4f69-481c-a931-4074b0f241a0"
      },
      "source": [
        "filmes = [\n",
        "    'Um Sonho de Liberdade',\n",
        "    'O Poderoso Chefão',\n",
        "    'Batman O Cavaleiro das Trevas',\n",
        "    'Poderoso Chefão II',\n",
        "    '12 Homens e uma Sentença',\n",
        "    'A Lista de Schindler',\n",
        "    'Lord of the Rings O Retorno do Rei',\n",
        "    'Pulp Fiction Tempo de Violência',\n",
        "    'Lord of the Rings A Sociedade do Anel',\n",
        "    'Três Homens em Conflito'\n",
        "    ]\n",
        "print(filmes)"
      ],
      "execution_count": 2,
      "outputs": [
        {
          "output_type": "stream",
          "name": "stdout",
          "text": [
            "['Um Sonho de Liberdade', 'O Poderoso Chefão', 'Batman O Cavaleiro das Trevas', 'Poderoso Chefão II', '12 Homens e uma Sentença', 'A Lista de Schindler', 'Lord of the Rings O Retorno do Rei', 'Pulp Fiction Tempo de Violência', 'Lord of the Rings A Sociedade do Anel', 'Três Homens em Conflito']\n"
          ]
        }
      ]
    },
    {
      "cell_type": "markdown",
      "metadata": {
        "id": "KI9zQRT2xa7m"
      },
      "source": [
        "Simule a movimentação do *ranking*. Utilize os métodos `insert` e `pop` para trocar a posição do primeiro e do segundo filme da lista. Imprima o resultado.\n",
        "\n"
      ]
    },
    {
      "cell_type": "code",
      "metadata": {
        "id": "zX3mA3_GzrXH",
        "colab": {
          "base_uri": "https://localhost:8080/"
        },
        "outputId": "c5fa24b8-b871-4938-ca0b-b6501246e33a"
      },
      "source": [
        "filmes = [\n",
        "    'Um Sonho de Liberdade',\n",
        "    'O Poderoso Chefão',\n",
        "    'Batman O Cavaleiro das Trevas',\n",
        "    'Poderoso Chefão II',\n",
        "    '12 Homens e uma Sentença',\n",
        "    'A Lista de Schindler',\n",
        "    'Lord of the Rings O Retorno do Rei',\n",
        "    'Pulp Fiction Tempo de Violência',\n",
        "    'Lord of the Rings A Sociedade do Anel',\n",
        "    'Três Homens em Conflito'\n",
        "    ]\n",
        "filmes.pop(1)\n",
        "filmes.insert(0, 'O Poderoso Chefão')\n",
        "print(filmes)\n"
      ],
      "execution_count": 6,
      "outputs": [
        {
          "output_type": "stream",
          "name": "stdout",
          "text": [
            "['O Poderoso Chefão', 'Um Sonho de Liberdade', 'Batman O Cavaleiro das Trevas', 'Poderoso Chefão II', '12 Homens e uma Sentença', 'A Lista de Schindler', 'Lord of the Rings O Retorno do Rei', 'Pulp Fiction Tempo de Violência', 'Lord of the Rings A Sociedade do Anel', 'Três Homens em Conflito']\n"
          ]
        }
      ]
    },
    {
      "cell_type": "markdown",
      "metadata": {
        "id": "zMN1Q3jdwoJm"
      },
      "source": [
        "---"
      ]
    },
    {
      "cell_type": "markdown",
      "metadata": {
        "id": "lxa5L6uF0ZJE"
      },
      "source": [
        "## 2\\. Conjuntos"
      ]
    },
    {
      "cell_type": "markdown",
      "metadata": {
        "id": "9JahS2Kj0d5u"
      },
      "source": [
        "Aconteceu um erro no seu *ranking*. Simule a duplicação dos três últimos filmes da lista. Imprima o resultado."
      ]
    },
    {
      "cell_type": "code",
      "metadata": {
        "id": "BnjnLBNC6PGe",
        "colab": {
          "base_uri": "https://localhost:8080/"
        },
        "outputId": "883d4be4-ad53-45a8-a5c5-30d9d9e9d06e"
      },
      "source": [
        "filmes = [\n",
        "    'Um Sonho de Liberdade',\n",
        "    'O Poderoso Chefão',\n",
        "    'Batman O Cavaleiro das Trevas',\n",
        "    'Poderoso Chefão II',\n",
        "    '12 Homens e uma Sentença',\n",
        "    'A Lista de Schindler',\n",
        "    'Lord of the Rings O Retorno do Rei',\n",
        "    'Pulp Fiction Tempo de Violência',\n",
        "    'Lord of the Rings A Sociedade do Anel',\n",
        "    'Três Homens em Conflito'\n",
        "    ]\n",
        "filmes.append('Pulp Fiction Tempo de Violência')\n",
        "filmes.append('Lord of the Rings A Sociedade do Anel')\n",
        "filmes.append('Três Homens em Conflito')\n",
        "print(filmes)"
      ],
      "execution_count": 7,
      "outputs": [
        {
          "output_type": "stream",
          "name": "stdout",
          "text": [
            "['Um Sonho de Liberdade', 'O Poderoso Chefão', 'Batman O Cavaleiro das Trevas', 'Poderoso Chefão II', '12 Homens e uma Sentença', 'A Lista de Schindler', 'Lord of the Rings O Retorno do Rei', 'Pulp Fiction Tempo de Violência', 'Lord of the Rings A Sociedade do Anel', 'Três Homens em Conflito', 'Pulp Fiction Tempo de Violência', 'Lord of the Rings A Sociedade do Anel', 'Três Homens em Conflito']\n"
          ]
        }
      ]
    },
    {
      "cell_type": "markdown",
      "metadata": {
        "id": "suxTfCJB6ZiX"
      },
      "source": [
        "Utiliza a conversão `set` e `list` para remover os valores duplicados. Imprima o resultado. "
      ]
    },
    {
      "cell_type": "code",
      "metadata": {
        "id": "ZvUGN-0n6joM",
        "colab": {
          "base_uri": "https://localhost:8080/"
        },
        "outputId": "eeef481f-82c4-451f-de3f-96a0aced478b"
      },
      "source": [
        "filmes = [\n",
        "    'Um Sonho de Liberdade',\n",
        "    'O Poderoso Chefão',\n",
        "    'Batman O Cavaleiro das Trevas',\n",
        "    'Poderoso Chefão II',\n",
        "    '12 Homens e uma Sentença',\n",
        "    'A Lista de Schindler',\n",
        "    'Lord of the Rings O Retorno do Rei',\n",
        "    'Pulp Fiction Tempo de Violência',\n",
        "    'Lord of the Rings A Sociedade do Anel',\n",
        "    'Três Homens em Conflito'\n",
        "    ]\n",
        "    \n",
        "filmes.append('Pulp Fiction Tempo de Violência')\n",
        "filmes.append('Lord of the Rings A Sociedade do Anel')\n",
        "filmes.append('Três Homens em Conflito')\n",
        "filmes.remove('Pulp Fiction Tempo de Violência')\n",
        "filmes.remove('Lord of the Rings A Sociedade do Anel')\n",
        "filmes.remove('Três Homens em Conflito')\n",
        "print(filmes)"
      ],
      "execution_count": 9,
      "outputs": [
        {
          "output_type": "stream",
          "name": "stdout",
          "text": [
            "['Um Sonho de Liberdade', 'O Poderoso Chefão', 'Batman O Cavaleiro das Trevas', 'Poderoso Chefão II', '12 Homens e uma Sentença', 'A Lista de Schindler', 'Lord of the Rings O Retorno do Rei', 'Pulp Fiction Tempo de Violência', 'Lord of the Rings A Sociedade do Anel', 'Três Homens em Conflito']\n"
          ]
        }
      ]
    },
    {
      "cell_type": "markdown",
      "metadata": {
        "id": "ShkK35eQ6pAM"
      },
      "source": [
        "---"
      ]
    },
    {
      "cell_type": "markdown",
      "metadata": {
        "id": "EL_FzmxL6rTv"
      },
      "source": [
        "## 3\\. Dicionários"
      ]
    },
    {
      "cell_type": "markdown",
      "metadata": {
        "id": "i8l0gFqRCpfT"
      },
      "source": [
        "Repita os exercícios da parte 1 (listas). Os elementos da lista `filmes` devem ser dicionários no seguinte formato: `{'nome': <nome-do-filme>, 'ano': <ano do filme>}, 'sinopse': <sinopse do filme>}`. "
      ]
    },
    {
      "cell_type": "code",
      "source": [
        "filme1 = {'nome': 'Um Sonho de Liberdade', 'ano': '1994', 'sinopse': 'Dois homens presos se reúnem ao longo de vários anos, encontrando consolo e eventual redenção através de atos de decência comum.'}\n",
        "filme2 = {'nome': 'O Poderoso Chefão', 'ano': '1972', 'sinopse': 'O patriarca idoso de uma dinastia do crime organizado transfere o controle de seu império clandestino para seu filho relutante.'}\n",
        "filme3 = {'nome': 'Batman O Cavaleiro das Trevas', 'ano': '2008', 'sinopse': 'Quando a ameaça conhecida como O Coringa surge de seu passado, causa estragos e caos nas pessoas de Gotham. O Cavaleiro das Trevas deve aceitar um dos maiores testes para combater a injustiça.'}\n",
        "filme4 = {'nome': 'Poderoso Chefão II', 'ano': '1974', 'sinopse': 'Em 1950, Michael Corleone, agora à frente da família, tenta expandir o negócio do crime a Las Vegas, Los Angeles e Cuba. Paralelamente, é revelada a história de Vito Corleone, e de como saiu da Sicília e chegou a Nova Iorque.'}\n",
        "filme5 = {'nome': '12 Homens e uma Sentença', 'ano': '1957', 'sinopse': 'Um jurado que se aposenta tenta evitar um erro judicial forçando seus colegas a reconsiderarem as evidências.'}\n",
        "filme6 = {'nome': 'A Lista de Schindler', 'ano': '1993', 'sinopse': 'Depois de testemunhar a perseguição dos judaicos na Polônia ocupada pelos alemães durante a Segunda Guerra Mundial, o industrial Oskar Schindler se começa a preocupar com sua força de trabalho judaica.'}\n",
        "filme7 = {'nome': 'Lord of the Rings O Retorno do Rei', 'ano': '2003', 'sinopse': 'Gandalf e Aragorn lideram o Mundo dos Homens contra o exército de Sauron para desviar o olhar de Frodo e Sam quando eles se aproximam á Montanha da Perdição com o Um Anel.'}\n",
        "filme8 = {'nome': 'Pulp Fiction Tempo de Violência', 'ano': '1994', 'sinopse': 'As vidas de dois assassinos da máfia, um boxeador, um gângster e sua esposa, e um par de bandidos se entrelaçam em quatro histórias de violência e redenção.'}\n",
        "filme9 = {'nome': 'Lord of the Rings A Sociedade do Anel', 'ano': '2001', 'sinopse': 'Um manso hobbit do Condado e oito companheiros partem em uma jornada para destruir o poderoso Um Anel e salvar a Terra-média das Trevas.'}\n",
        "filme10 = {'nome': 'Três Homens em Conflito', 'ano': '1966', 'sinopse': 'Um impostor se junta com dois homens para encontrar fortuna num remoto cemitério.'}\n",
        "print(filme3)"
      ],
      "metadata": {
        "colab": {
          "base_uri": "https://localhost:8080/"
        },
        "id": "ZhH9MLvqiYBJ",
        "outputId": "78f512c4-d2c0-489a-8c44-6a5de933a00a"
      },
      "execution_count": 13,
      "outputs": [
        {
          "output_type": "stream",
          "name": "stdout",
          "text": [
            "{'nome': 'Batman O Cavaleiro das Trevas', 'ano': '2008', 'sinopse': 'Quando a ameaça conhecida como O Coringa surge de seu passado, causa estragos e caos nas pessoas de Gotham. O Cavaleiro das Trevas deve aceitar um dos maiores testes para combater a injustiça.'}\n"
          ]
        }
      ]
    }
  ]
}