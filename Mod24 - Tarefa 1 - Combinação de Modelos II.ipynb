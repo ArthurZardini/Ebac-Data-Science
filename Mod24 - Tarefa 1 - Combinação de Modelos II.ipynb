{
 "cells": [
  {
   "cell_type": "markdown",
   "id": "4382e6f3",
   "metadata": {},
   "source": [
    "Tarefa 1\n",
    "\n",
    "1. Cite 5 diferenças entre o Random Forest e o AdaBoost.<br>\n",
    "2. Acesse o link Scikit-learn-adaboost, leia a explicação (traduza se for preciso) e crie um jupyter notebook contendo o exemplo do AdaBoost.<br>\n",
    "3. Cite 5 Hyperparametros importantes no AdaBoost.\n"
   ]
  },
  {
   "cell_type": "markdown",
   "id": "967b8de0",
   "metadata": {},
   "source": [
    "Resposta 1:\n",
    "\n",
    "a) O Random Forest é baseado em árvores de decisão, onde são criadas várias árvores de forma independente.\n",
    "O AdaBoost constrói stumps, que modelos de árvores de decisão com apenas 1 de profundidade. São construídas várias 'mini-árvores', e se atribui maior importância para os resultados mal classificados em cada teste.\n",
    "Por exemplo, se os stumps acertaram uma resposta, eles teram menos peso, se erraram, terão maior peso. Pois, o que nos interessa é descobrir as respostas que ainda não temos.\n",
    "\n",
    "b) O Random Forest dá o mesmo peso para todas as árvores de treinamento.\n",
    "O AdaBoost dá mais peso (dá mais valor, tem mais interesse) nos stumps que tem respostas negativas. \n",
    "\n",
    "c) O Random Forest faz uma seleção aleatória de subconjuntos em cada árvore de decisão, e isso ajuda a evitaro overfitting.\n",
    "O AdaBoost faz uma seleção ponderada, pega o que é mais importante, o que tem melhor desempenho.\n",
    "\n",
    "d) Como o Random Forest tem árvores independentes, ele não é tão afetado por outliers.\n",
    "Já o AdaBoost, como dá muita importâncai para amostras mal classificadas, ele é bem sensível aos outliers.\n",
    "\n",
    "e) O Random Forest pode ser facilmente paralelizado (ou seja, pode treinar várias árvores ao mesmo tempo), permitindo treinamento rápido em conjuntos de dados grandes. \n",
    "O AdaBoost é mais difícil de paralelizar devido à natureza sequencial do processo de construção do conjunto de modelos."
   ]
  },
  {
   "cell_type": "code",
   "execution_count": 11,
   "id": "44282c3e",
   "metadata": {},
   "outputs": [],
   "source": [
    "import numpy as np\n",
    "import matplotlib.pyplot as plt\n",
    "from sklearn.ensemble import AdaBoostClassifier\n",
    "from sklearn.datasets import load_iris\n",
    "from sklearn.model_selection import train_test_split\n",
    "from sklearn.metrics import accuracy_score\n"
   ]
  },
  {
   "cell_type": "code",
   "execution_count": 12,
   "id": "ee08b20d",
   "metadata": {},
   "outputs": [],
   "source": [
    "#Resposta 2\n",
    "\n",
    "iris = load_iris()\n",
    "X_train, X_test, y_train, y_test = train_test_split(iris.data, iris.target, test_size=0.3, random_state=42)"
   ]
  },
  {
   "cell_type": "code",
   "execution_count": 13,
   "id": "f4ec1707",
   "metadata": {},
   "outputs": [
    {
     "name": "stdout",
     "output_type": "stream",
     "text": [
      "Acurácia de treinamento: 0.9619047619047619\n",
      "Acurácia de teste: 1.0\n"
     ]
    }
   ],
   "source": [
    "clf = AdaBoostClassifier(n_estimators=100)\n",
    "clf.fit(X_train, y_train)\n",
    "\n",
    "y_pred_train = clf.predict(X_train)\n",
    "train_accuracy = accuracy_score(y_train, y_pred_train)\n",
    "\n",
    "y_pred_test = clf.predict(X_test)\n",
    "test_accuracy = accuracy_score(y_test, y_pred_test)\n",
    "\n",
    "print(\"Acurácia de treinamento:\", train_accuracy)\n",
    "print(\"Acurácia de teste:\", test_accuracy)"
   ]
  },
  {
   "cell_type": "markdown",
   "id": "6791760e",
   "metadata": {},
   "source": [
    "Resposta 3:"
   ]
  },
  {
   "cell_type": "markdown",
   "id": "2e43c9c5",
   "metadata": {},
   "source": [
    "a) n_estimators: é o número de estimadores fracos (o número de Stumps).<br>\n",
    "b) learning_rate: taxa de aprendizagem do algoritmo.<br>\n",
    "c) base_estimator: estimador base a ser utilizado pelo algoritmo (por exemplo, DecisionTreeClassifier com profundidade 10).<br>\n",
    "d) random_state: utilizado para gerar números aleatórios.<br>\n",
    "e) loss: é o peso que você atribui para suas amostras incorretas, você pode atribuir mais ou menos peso para elas, se atribuir mais, os seus stumps vão ficando cada vez mais sensíveis a respostas incorretas."
   ]
  },
  {
   "cell_type": "code",
   "execution_count": null,
   "id": "0cdcf408",
   "metadata": {},
   "outputs": [],
   "source": []
  }
 ],
 "metadata": {
  "kernelspec": {
   "display_name": "Python 3 (ipykernel)",
   "language": "python",
   "name": "python3"
  },
  "language_info": {
   "codemirror_mode": {
    "name": "ipython",
    "version": 3
   },
   "file_extension": ".py",
   "mimetype": "text/x-python",
   "name": "python",
   "nbconvert_exporter": "python",
   "pygments_lexer": "ipython3",
   "version": "3.9.13"
  }
 },
 "nbformat": 4,
 "nbformat_minor": 5
}
